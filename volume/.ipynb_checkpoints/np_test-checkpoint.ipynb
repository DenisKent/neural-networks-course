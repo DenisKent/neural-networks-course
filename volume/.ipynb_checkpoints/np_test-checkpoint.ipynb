{
 "cells": [
  {
   "cell_type": "code",
   "execution_count": 1,
   "metadata": {},
   "outputs": [],
   "source": [
    "import numpy as np"
   ]
  },
  {
   "cell_type": "code",
   "execution_count": 2,
   "metadata": {},
   "outputs": [
    {
     "name": "stdout",
     "output_type": "stream",
     "text": [
      "Vectorised time: 2.2788047790527344ms\n",
      "For loop: 924.2196083068848ms\n"
     ]
    }
   ],
   "source": [
    "import time\n",
    "\n",
    "a = np.random.rand(1000000)\n",
    "b = np.random.rand(1000000)\n",
    "\n",
    "tic = time.time()\n",
    "c = np.dot(a,b)\n",
    "toc = time.time()\n",
    "\n",
    "print(\"Vectorised time: \" + str(1000*(toc-tic)) + \"ms\")\n",
    "\n",
    "c=0\n",
    "tic = time.time()\n",
    "for i in range(1000000):\n",
    "    c +=a[i]*b[i]\n",
    "toc = time.time()\n",
    "\n",
    "print(\"For loop: \" + str(1000*(toc-tic)) + \"ms\")"
   ]
  },
  {
   "cell_type": "code",
   "execution_count": 3,
   "metadata": {},
   "outputs": [
    {
     "name": "stdout",
     "output_type": "stream",
     "text": [
      "[[ 3  5]\n",
      " [ 6 10]]\n"
     ]
    }
   ],
   "source": [
    "x = np.dot([[1,1],[2,2]],[[1,2],[2,3]])\n",
    "print(x)"
   ]
  },
  {
   "cell_type": "code",
   "execution_count": 4,
   "metadata": {},
   "outputs": [
    {
     "name": "stdout",
     "output_type": "stream",
     "text": [
      "[[1 1]\n",
      " [2 2]]\n",
      "[3 3]\n"
     ]
    }
   ],
   "source": [
    "A = np.array([[1,1],\n",
    "              [2,2]])\n",
    "print(A)\n",
    "calc = A.sum(axis=0)\n",
    "print(calc)"
   ]
  },
  {
   "cell_type": "code",
   "execution_count": 5,
   "metadata": {},
   "outputs": [
    {
     "name": "stdout",
     "output_type": "stream",
     "text": [
      "[[33.33333333 33.33333333]\n",
      " [66.66666667 66.66666667]]\n"
     ]
    }
   ],
   "source": [
    "percentage = 100*A/calc\n",
    "print(percentage)"
   ]
  },
  {
   "cell_type": "code",
   "execution_count": 6,
   "metadata": {},
   "outputs": [],
   "source": [
    "assert(percentage.shape == (2,2))"
   ]
  },
  {
   "cell_type": "code",
   "execution_count": 7,
   "metadata": {},
   "outputs": [
    {
     "name": "stdout",
     "output_type": "stream",
     "text": [
      "a [[0.65198192 0.30029229 0.81251009 0.38094962]\n",
      " [0.81110492 0.36684872 0.95269392 0.02651967]\n",
      " [0.23836753 0.17802218 0.1020421  0.1982904 ]]\n",
      "b [[0.11832313]\n",
      " [0.87316475]\n",
      " [0.92959958]\n",
      " [0.41488667]]\n",
      "c [[0. 0. 0. 0.]\n",
      " [0. 0. 0. 0.]\n",
      " [0. 0. 0. 0.]]\n",
      "sum [[0.77030505 1.17345703 1.74210967 0.79583628]\n",
      " [0.92942805 1.24001347 1.8822935  0.44140633]\n",
      " [0.35669066 1.05118692 1.03164168 0.61317706]]\n",
      "d [[0.77030505 1.17345703 1.74210967 0.79583628]\n",
      " [0.92942805 1.24001347 1.8822935  0.44140633]\n",
      " [0.35669066 1.05118692 1.03164168 0.61317706]]\n"
     ]
    }
   ],
   "source": [
    "a = np.random.rand(3,4)\n",
    "b = np.random.rand(4,1)\n",
    "c = np.zeros((3,4))\n",
    "\n",
    "print(\"a\", a)\n",
    "print(\"b\", b)\n",
    "print(\"c\", c)\n",
    "\n",
    "for i in range(3):\n",
    "  for j in range(4):\n",
    "    c[i][j] = a[i][j] + b[j]\n",
    "print (\"sum\", c)\n",
    "\n",
    "d = a + b.T\n",
    "print(\"d\", d)"
   ]
  },
  {
   "cell_type": "code",
   "execution_count": 8,
   "metadata": {},
   "outputs": [
    {
     "name": "stdout",
     "output_type": "stream",
     "text": [
      "[[-0.59105758 -0.20000349 -1.06939834]\n",
      " [-2.02848719 -0.68337437  0.40466936]\n",
      " [ 0.0573338   0.15790905 -0.30151662]]\n"
     ]
    }
   ],
   "source": [
    "a = np.random.randn(3, 3)\n",
    "b = np.random.randn(3, 1)\n",
    "c = a*b\n",
    "print(c)"
   ]
  },
  {
   "cell_type": "code",
   "execution_count": null,
   "metadata": {},
   "outputs": [],
   "source": []
  }
 ],
 "metadata": {
  "kernelspec": {
   "display_name": "Python 3",
   "language": "python",
   "name": "python3"
  },
  "language_info": {
   "codemirror_mode": {
    "name": "ipython",
    "version": 3
   },
   "file_extension": ".py",
   "mimetype": "text/x-python",
   "name": "python",
   "nbconvert_exporter": "python",
   "pygments_lexer": "ipython3",
   "version": "3.7.3"
  }
 },
 "nbformat": 4,
 "nbformat_minor": 2
}
